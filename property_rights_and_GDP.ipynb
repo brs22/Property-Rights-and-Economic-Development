{
 "cells": [
  {
   "cell_type": "code",
   "execution_count": 1,
   "metadata": {},
   "outputs": [],
   "source": [
    "import pandas as pd\n",
    "import numpy as np\n",
    "import matplotlib as plt\n",
    "import matplotlib.pyplot as plt"
   ]
  },
  {
   "cell_type": "code",
   "execution_count": 11,
   "metadata": {},
   "outputs": [
    {
     "data": {
      "text/html": [
       "<div>\n",
       "<style scoped>\n",
       "    .dataframe tbody tr th:only-of-type {\n",
       "        vertical-align: middle;\n",
       "    }\n",
       "\n",
       "    .dataframe tbody tr th {\n",
       "        vertical-align: top;\n",
       "    }\n",
       "\n",
       "    .dataframe thead th {\n",
       "        text-align: right;\n",
       "    }\n",
       "</style>\n",
       "<table border=\"1\" class=\"dataframe\">\n",
       "  <thead>\n",
       "    <tr style=\"text-align: right;\">\n",
       "      <th></th>\n",
       "      <th>Country Name</th>\n",
       "      <th>Country Code</th>\n",
       "      <th>Indicator Name</th>\n",
       "      <th>Indicator Code</th>\n",
       "      <th>1960</th>\n",
       "      <th>1961</th>\n",
       "      <th>1962</th>\n",
       "      <th>1963</th>\n",
       "      <th>1964</th>\n",
       "      <th>1965</th>\n",
       "      <th>...</th>\n",
       "      <th>2013</th>\n",
       "      <th>2014</th>\n",
       "      <th>2015</th>\n",
       "      <th>2016</th>\n",
       "      <th>2017</th>\n",
       "      <th>2018</th>\n",
       "      <th>2019</th>\n",
       "      <th>2020</th>\n",
       "      <th>2021</th>\n",
       "      <th>Unnamed: 66</th>\n",
       "    </tr>\n",
       "  </thead>\n",
       "  <tbody>\n",
       "    <tr>\n",
       "      <th>0</th>\n",
       "      <td>Aruba</td>\n",
       "      <td>ABW</td>\n",
       "      <td>GDP per capita, PPP (current international $)</td>\n",
       "      <td>NY.GDP.PCAP.PP.CD</td>\n",
       "      <td>NaN</td>\n",
       "      <td>NaN</td>\n",
       "      <td>NaN</td>\n",
       "      <td>NaN</td>\n",
       "      <td>NaN</td>\n",
       "      <td>NaN</td>\n",
       "      <td>...</td>\n",
       "      <td>36830.156611</td>\n",
       "      <td>36782.227117</td>\n",
       "      <td>37314.564389</td>\n",
       "      <td>37587.065942</td>\n",
       "      <td>38893.960556</td>\n",
       "      <td>40143.000266</td>\n",
       "      <td>39834.223903</td>\n",
       "      <td>31182.833881</td>\n",
       "      <td>NaN</td>\n",
       "      <td>NaN</td>\n",
       "    </tr>\n",
       "    <tr>\n",
       "      <th>1</th>\n",
       "      <td>Africa Eastern and Southern</td>\n",
       "      <td>AFE</td>\n",
       "      <td>GDP per capita, PPP (current international $)</td>\n",
       "      <td>NY.GDP.PCAP.PP.CD</td>\n",
       "      <td>NaN</td>\n",
       "      <td>NaN</td>\n",
       "      <td>NaN</td>\n",
       "      <td>NaN</td>\n",
       "      <td>NaN</td>\n",
       "      <td>NaN</td>\n",
       "      <td>...</td>\n",
       "      <td>3365.684322</td>\n",
       "      <td>3503.826534</td>\n",
       "      <td>3533.336591</td>\n",
       "      <td>3627.474284</td>\n",
       "      <td>3670.891196</td>\n",
       "      <td>3761.035160</td>\n",
       "      <td>3814.846625</td>\n",
       "      <td>3659.272868</td>\n",
       "      <td>3881.592253</td>\n",
       "      <td>NaN</td>\n",
       "    </tr>\n",
       "    <tr>\n",
       "      <th>2</th>\n",
       "      <td>Afghanistan</td>\n",
       "      <td>AFG</td>\n",
       "      <td>GDP per capita, PPP (current international $)</td>\n",
       "      <td>NY.GDP.PCAP.PP.CD</td>\n",
       "      <td>NaN</td>\n",
       "      <td>NaN</td>\n",
       "      <td>NaN</td>\n",
       "      <td>NaN</td>\n",
       "      <td>NaN</td>\n",
       "      <td>NaN</td>\n",
       "      <td>...</td>\n",
       "      <td>2015.514775</td>\n",
       "      <td>2069.424022</td>\n",
       "      <td>2087.305323</td>\n",
       "      <td>1981.118069</td>\n",
       "      <td>2058.400221</td>\n",
       "      <td>2082.392197</td>\n",
       "      <td>2152.190243</td>\n",
       "      <td>2078.479082</td>\n",
       "      <td>NaN</td>\n",
       "      <td>NaN</td>\n",
       "    </tr>\n",
       "    <tr>\n",
       "      <th>3</th>\n",
       "      <td>Africa Western and Central</td>\n",
       "      <td>AFW</td>\n",
       "      <td>GDP per capita, PPP (current international $)</td>\n",
       "      <td>NY.GDP.PCAP.PP.CD</td>\n",
       "      <td>NaN</td>\n",
       "      <td>NaN</td>\n",
       "      <td>NaN</td>\n",
       "      <td>NaN</td>\n",
       "      <td>NaN</td>\n",
       "      <td>NaN</td>\n",
       "      <td>...</td>\n",
       "      <td>4013.196523</td>\n",
       "      <td>4208.731780</td>\n",
       "      <td>4139.323364</td>\n",
       "      <td>4069.005667</td>\n",
       "      <td>4115.645480</td>\n",
       "      <td>4231.321093</td>\n",
       "      <td>4335.409188</td>\n",
       "      <td>4241.522499</td>\n",
       "      <td>4474.970700</td>\n",
       "      <td>NaN</td>\n",
       "    </tr>\n",
       "    <tr>\n",
       "      <th>4</th>\n",
       "      <td>Angola</td>\n",
       "      <td>AGO</td>\n",
       "      <td>GDP per capita, PPP (current international $)</td>\n",
       "      <td>NY.GDP.PCAP.PP.CD</td>\n",
       "      <td>NaN</td>\n",
       "      <td>NaN</td>\n",
       "      <td>NaN</td>\n",
       "      <td>NaN</td>\n",
       "      <td>NaN</td>\n",
       "      <td>NaN</td>\n",
       "      <td>...</td>\n",
       "      <td>7682.475646</td>\n",
       "      <td>8179.297828</td>\n",
       "      <td>7337.569901</td>\n",
       "      <td>7103.226249</td>\n",
       "      <td>7310.896551</td>\n",
       "      <td>7148.933253</td>\n",
       "      <td>6995.299736</td>\n",
       "      <td>6478.332182</td>\n",
       "      <td>6581.042021</td>\n",
       "      <td>NaN</td>\n",
       "    </tr>\n",
       "  </tbody>\n",
       "</table>\n",
       "<p>5 rows × 67 columns</p>\n",
       "</div>"
      ],
      "text/plain": [
       "                  Country Name Country Code  \\\n",
       "0                        Aruba          ABW   \n",
       "1  Africa Eastern and Southern          AFE   \n",
       "2                  Afghanistan          AFG   \n",
       "3   Africa Western and Central          AFW   \n",
       "4                       Angola          AGO   \n",
       "\n",
       "                                  Indicator Name     Indicator Code  1960  \\\n",
       "0  GDP per capita, PPP (current international $)  NY.GDP.PCAP.PP.CD   NaN   \n",
       "1  GDP per capita, PPP (current international $)  NY.GDP.PCAP.PP.CD   NaN   \n",
       "2  GDP per capita, PPP (current international $)  NY.GDP.PCAP.PP.CD   NaN   \n",
       "3  GDP per capita, PPP (current international $)  NY.GDP.PCAP.PP.CD   NaN   \n",
       "4  GDP per capita, PPP (current international $)  NY.GDP.PCAP.PP.CD   NaN   \n",
       "\n",
       "   1961  1962  1963  1964  1965  ...          2013          2014  \\\n",
       "0   NaN   NaN   NaN   NaN   NaN  ...  36830.156611  36782.227117   \n",
       "1   NaN   NaN   NaN   NaN   NaN  ...   3365.684322   3503.826534   \n",
       "2   NaN   NaN   NaN   NaN   NaN  ...   2015.514775   2069.424022   \n",
       "3   NaN   NaN   NaN   NaN   NaN  ...   4013.196523   4208.731780   \n",
       "4   NaN   NaN   NaN   NaN   NaN  ...   7682.475646   8179.297828   \n",
       "\n",
       "           2015          2016          2017          2018          2019  \\\n",
       "0  37314.564389  37587.065942  38893.960556  40143.000266  39834.223903   \n",
       "1   3533.336591   3627.474284   3670.891196   3761.035160   3814.846625   \n",
       "2   2087.305323   1981.118069   2058.400221   2082.392197   2152.190243   \n",
       "3   4139.323364   4069.005667   4115.645480   4231.321093   4335.409188   \n",
       "4   7337.569901   7103.226249   7310.896551   7148.933253   6995.299736   \n",
       "\n",
       "           2020         2021  Unnamed: 66  \n",
       "0  31182.833881          NaN          NaN  \n",
       "1   3659.272868  3881.592253          NaN  \n",
       "2   2078.479082          NaN          NaN  \n",
       "3   4241.522499  4474.970700          NaN  \n",
       "4   6478.332182  6581.042021          NaN  \n",
       "\n",
       "[5 rows x 67 columns]"
      ]
     },
     "execution_count": 11,
     "metadata": {},
     "output_type": "execute_result"
    }
   ],
   "source": [
    "#download data from https://data.worldbank.org/indicator/NY.GDP.PCAP.PP.CD\n",
    "gdp = pd.read_csv('WorldBank_per_capita_GDP.csv', sep=',', skiprows=4) \n",
    "gdp.head()"
   ]
  },
  {
   "cell_type": "code",
   "execution_count": 12,
   "metadata": {},
   "outputs": [],
   "source": [
    "#get data from https://www.heritage.org/index/explore.aspx?u=637966942306703209\n",
    "ec_index = pd.read_excel('heritage-all-data.xlsx')"
   ]
  },
  {
   "cell_type": "code",
   "execution_count": 13,
   "metadata": {},
   "outputs": [
    {
     "data": {
      "text/plain": [
       "Country Name       object\n",
       "Country Code       object\n",
       "Indicator Name     object\n",
       "Indicator Code     object\n",
       "1960              float64\n",
       "                   ...   \n",
       "2018              float64\n",
       "2019              float64\n",
       "2020              float64\n",
       "2021              float64\n",
       "Unnamed: 66       float64\n",
       "Length: 67, dtype: object"
      ]
     },
     "execution_count": 13,
     "metadata": {},
     "output_type": "execute_result"
    }
   ],
   "source": [
    "gdp.dtypes"
   ]
  },
  {
   "cell_type": "code",
   "execution_count": 14,
   "metadata": {},
   "outputs": [
    {
     "data": {
      "text/plain": [
       "Name                       object\n",
       "Index Year                  int64\n",
       "Overall Score              object\n",
       "Property Rights            object\n",
       "Government Integrity       object\n",
       "Judicial Effectiveness     object\n",
       "Tax Burden                float64\n",
       "Government Spending        object\n",
       "Fiscal Health              object\n",
       "Business Freedom           object\n",
       "Labor Freedom              object\n",
       "Monetary Freedom           object\n",
       "Trade Freedom             float64\n",
       "Investment Freedom        float64\n",
       "Financial Freedom         float64\n",
       "dtype: object"
      ]
     },
     "execution_count": 14,
     "metadata": {},
     "output_type": "execute_result"
    }
   ],
   "source": [
    "ec_index.dtypes"
   ]
  },
  {
   "cell_type": "code",
   "execution_count": 16,
   "metadata": {},
   "outputs": [],
   "source": [
    "#drop other columns besides Country, Index Year, and Score in EC Index, And Country and Last Year in GDP\n",
    "ec_index = ec_index[['Name', 'Index Year', 'Overall Score']]\n",
    "gdp = gdp[['Country Name', '2021']]"
   ]
  },
  {
   "cell_type": "code",
   "execution_count": 17,
   "metadata": {},
   "outputs": [],
   "source": [
    "#rename the columns\n",
    "ec_index.columns = ['Country', 'Year', 'Score']\n",
    "gdp.columns = ['Country', 'Value']"
   ]
  },
  {
   "cell_type": "code",
   "execution_count": 18,
   "metadata": {},
   "outputs": [],
   "source": [
    "#merge the two dataframes, on the values of Country to align the data. \n",
    "# exclude the Year column from ec_index and then remove rows with NaN values.\n",
    "merged_data = pd.merge(gdp, ec_index, on='Country')\n",
    "merged_data = merged_data[['Country', 'Value', 'Score']]\n",
    "merged_data.dropna(axis=0, how='any', thresh=None, \n",
    "                   subset=None, inplace=True)"
   ]
  },
  {
   "cell_type": "code",
   "execution_count": 19,
   "metadata": {},
   "outputs": [
    {
     "data": {
      "text/plain": [
       "<matplotlib.collections.PathCollection at 0x21fa2d13ca0>"
      ]
     },
     "execution_count": 19,
     "metadata": {},
     "output_type": "execute_result"
    },
    {
     "data": {
      "image/png": "[encoded data removed]",
      "text/plain": [
       "<Figure size 432x288 with 1 Axes>"
      ]
     },
     "metadata": {
      "needs_background": "light"
     },
     "output_type": "display_data"
    }
   ],
   "source": [
    "#plot\n",
    "plt.scatter(merged_data.Score, merged_data.Value)"
   ]
  },
  {
   "cell_type": "code",
   "execution_count": 20,
   "metadata": {},
   "outputs": [
    {
     "data": {
      "text/plain": [
       "<matplotlib.collections.PathCollection at 0x21fa3790e50>"
      ]
     },
     "execution_count": 20,
     "metadata": {},
     "output_type": "execute_result"
    },
    {
     "data": {
      "image/png": "[encoded data removed]",
      "text/plain": [
       "<Figure size 432x288 with 1 Axes>"
      ]
     },
     "metadata": {
      "needs_background": "light"
     },
     "output_type": "display_data"
    }
   ],
   "source": [
    "#alternatively\n",
    "x = merged_data.Score\n",
    "y = merged_data.Value\n",
    "plt.scatter(x,y)"
   ]
  },
  {
   "cell_type": "code",
   "execution_count": 21,
   "metadata": {},
   "outputs": [],
   "source": [
    "#add hover\n",
    "import plotly.graph_objs as go\n",
    "import plotly.express as px"
   ]
  },
  {
   "cell_type": "code",
   "execution_count": 22,
   "metadata": {},
   "outputs": [
    {
     "data": {
      "application/vnd.plotly.v1+json": {
       "config": {
        "plotlyServerURL": "https://plot.ly"
       },
       "data": [
        {
         "customdata": [
          [
           "Angola"
          ],
          [
           "Albania"
          ],
          [
           "Argentina"
          ],
          [
           "Armenia"
          ],
          [
           "Australia"
          ],
          [
           "Austria"
          ],
          [
           "Azerbaijan"
          ],
          [
           "Burundi"
          ],
          [
           "Belgium"
          ],
          [
           "Benin"
          ],
          [
           "Burkina Faso"
          ],
          [
           "Bangladesh"
          ],
          [
           "Bulgaria"
          ],
          [
           "Bahrain"
          ],
          [
           "Bosnia and Herzegovina"
          ],
          [
           "Belarus"
          ],
          [
           "Belize"
          ],
          [
           "Bolivia"
          ],
          [
           "Brazil"
          ],
          [
           "Barbados"
          ],
          [
           "Brunei Darussalam"
          ],
          [
           "Botswana"
          ],
          [
           "Central African Republic"
          ],
          [
           "Canada"
          ],
          [
           "Switzerland"
          ],
          [
           "Chile"
          ],
          [
           "China"
          ],
          [
           "Cameroon"
          ],
          [
           "Colombia"
          ],
          [
           "Comoros"
          ],
          [
           "Cabo Verde"
          ],
          [
           "Costa Rica"
          ],
          [
           "Cyprus"
          ],
          [
           "Czech Republic"
          ],
          [
           "Germany"
          ],
          [
           "Djibouti"
          ],
          [
           "Dominica"
          ],
          [
           "Denmark"
          ],
          [
           "Dominican Republic"
          ],
          [
           "Algeria"
          ],
          [
           "Ecuador"
          ],
          [
           "Spain"
          ],
          [
           "Estonia"
          ],
          [
           "Ethiopia"
          ],
          [
           "Finland"
          ],
          [
           "Fiji"
          ],
          [
           "France"
          ],
          [
           "Gabon"
          ],
          [
           "United Kingdom"
          ],
          [
           "Georgia"
          ],
          [
           "Ghana"
          ],
          [
           "Guinea"
          ],
          [
           "Guinea-Bissau"
          ],
          [
           "Equatorial Guinea"
          ],
          [
           "Greece"
          ],
          [
           "Guatemala"
          ],
          [
           "Guyana"
          ],
          [
           "Honduras"
          ],
          [
           "Croatia"
          ],
          [
           "Haiti"
          ],
          [
           "Hungary"
          ],
          [
           "Indonesia"
          ],
          [
           "India"
          ],
          [
           "Ireland"
          ],
          [
           "Iceland"
          ],
          [
           "Israel"
          ],
          [
           "Italy"
          ],
          [
           "Jamaica"
          ],
          [
           "Jordan"
          ],
          [
           "Japan"
          ],
          [
           "Kazakhstan"
          ],
          [
           "Kenya"
          ],
          [
           "Kyrgyz Republic"
          ],
          [
           "Cambodia"
          ],
          [
           "Lebanon"
          ],
          [
           "Liberia"
          ],
          [
           "Sri Lanka"
          ],
          [
           "Lesotho"
          ],
          [
           "Lithuania"
          ],
          [
           "Luxembourg"
          ],
          [
           "Latvia"
          ],
          [
           "Morocco"
          ],
          [
           "Moldova"
          ],
          [
           "Madagascar"
          ],
          [
           "Maldives"
          ],
          [
           "Mexico"
          ],
          [
           "North Macedonia"
          ],
          [
           "Mali"
          ],
          [
           "Malta"
          ],
          [
           "Montenegro"
          ],
          [
           "Mongolia"
          ],
          [
           "Mozambique"
          ],
          [
           "Mauritania"
          ],
          [
           "Mauritius"
          ],
          [
           "Malawi"
          ],
          [
           "Malaysia"
          ],
          [
           "Namibia"
          ],
          [
           "Niger"
          ],
          [
           "Nigeria"
          ],
          [
           "Nicaragua"
          ],
          [
           "Netherlands"
          ],
          [
           "Norway"
          ],
          [
           "Nepal"
          ],
          [
           "New Zealand"
          ],
          [
           "Pakistan"
          ],
          [
           "Panama"
          ],
          [
           "Peru"
          ],
          [
           "Philippines"
          ],
          [
           "Papua New Guinea"
          ],
          [
           "Poland"
          ],
          [
           "Portugal"
          ],
          [
           "Paraguay"
          ],
          [
           "Qatar"
          ],
          [
           "Romania"
          ],
          [
           "Rwanda"
          ],
          [
           "Saudi Arabia"
          ],
          [
           "Sudan"
          ],
          [
           "Senegal"
          ],
          [
           "Singapore"
          ],
          [
           "Solomon Islands"
          ],
          [
           "Sierra Leone"
          ],
          [
           "El Salvador"
          ],
          [
           "Serbia"
          ],
          [
           "Suriname"
          ],
          [
           "Slovak Republic"
          ],
          [
           "Slovenia"
          ],
          [
           "Sweden"
          ],
          [
           "Eswatini"
          ],
          [
           "Seychelles"
          ],
          [
           "Chad"
          ],
          [
           "Togo"
          ],
          [
           "Thailand"
          ],
          [
           "Tajikistan"
          ],
          [
           "Timor-Leste"
          ],
          [
           "Trinidad and Tobago"
          ],
          [
           "Tunisia"
          ],
          [
           "Tanzania"
          ],
          [
           "Uganda"
          ],
          [
           "Ukraine"
          ],
          [
           "Uruguay"
          ],
          [
           "United States"
          ],
          [
           "Uzbekistan"
          ],
          [
           "Vietnam"
          ],
          [
           "Vanuatu"
          ],
          [
           "Samoa"
          ],
          [
           "Kosovo"
          ],
          [
           "South Africa"
          ],
          [
           "Zambia"
          ],
          [
           "Zimbabwe"
          ]
         ],
         "hovertemplate": "Score=%{x}<br>Value=%{y}<br>Country=%{customdata[0]}<extra></extra>",
         "legendgroup": "",
         "marker": {
          "color": "#636efa",
          "symbol": "circle"
         },
         "mode": "markers",
         "name": "",
         "orientation": "v",
         "showlegend": false,
         "type": "scatter",
         "x": [
          "52.6",
          "66.6",
          "50.1",
          "65.3",
          "77.7",
          "73.8",
          "61.6",
          "39.4",
          "69.6",
          "61.0",
          "58.3",
          "52.7",
          "71.0",
          "62.0",
          "63.4",
          "53.0",
          "56.6",
          "43.0",
          "53.3",
          "71.3",
          "64.8",
          "64.8",
          "45.7",
          "76.6",
          "84.2",
          "74.4",
          "48.0",
          "52.9",
          "65.1",
          "50.4",
          "66.7",
          "65.4",
          "72.9",
          "74.4",
          "76.1",
          "55.3",
          "54.4",
          "78.0",
          "63.0",
          "45.8",
          "54.3",
          "68.2",
          "80.0",
          "49.6",
          "78.3",
          "56.4",
          "65.9",
          "55.8",
          "72.7",
          "71.8",
          "59.8",
          "54.2",
          "46.0",
          "47.2",
          "61.5",
          "63.2",
          "59.5",
          "59.5",
          "67.6",
          "50.0",
          "66.9",
          "64.4",
          "53.9",
          "82.0",
          "77.0",
          "68.0",
          "65.4",
          "67.4",
          "60.1",
          "69.9",
          "64.4",
          "52.6",
          "55.8",
          "57.1",
          "47.3",
          "47.9",
          "53.3",
          "48.1",
          "75.8",
          "80.6",
          "74.8",
          "59.2",
          "61.3",
          "58.9",
          "47.3",
          "63.7",
          "65.7",
          "55.9",
          "71.5",
          "57.8",
          "63.9",
          "51.3",
          "55.3",
          "70.9",
          "53.0",
          "68.1",
          "59.2",
          "54.9",
          "54.4",
          "54.8",
          "79.5",
          "76.9",
          "49.7",
          "80.6",
          "48.8",
          "65.4",
          "66.5",
          "61.1",
          "54.6",
          "68.7",
          "70.8",
          "62.9",
          "67.7",
          "67.1",
          "57.1",
          "55.5",
          "32.0",
          "60.0",
          "84.4",
          "56.5",
          "52.0",
          "59.6",
          "65.2",
          "48.1",
          "69.7",
          "70.5",
          "77.9",
          "51.4",
          "61.1",
          "49.8",
          "57.2",
          "63.2",
          "49.7",
          "46.3",
          "58.8",
          "54.2",
          "59.5",
          "54.2",
          "54.1",
          "70.0",
          "72.1",
          "55.7",
          "60.6",
          "62.9",
          "68.3",
          "60.1",
          "56.2",
          "48.7",
          "33.1"
         ],
         "xaxis": "x",
         "y": [
          6581.04202131983,
          15646.0415226344,
          23627.3942944195,
          14630.2442233356,
          55807.4440245279,
          58427.4956899576,
          15842.8895089134,
          793.236434389554,
          58930.9363265369,
          3789.27334657883,
          2461.94284491403,
          6613.01327474804,
          26705.438859784,
          45411.1203505007,
          16846.4558595952,
          21698.5740886624,
          6921.45007598508,
          9030.38768128724,
          16056.0161749037,
          14816.8628612989,
          66619.8709407373,
          17603.7267520514,
          1020.53316475871,
          52085.0356853372,
          77324.0881086006,
          29104.0580923,
          19338.234084501,
          4064.46689476455,
          16893.8171849121,
          3284.40149225267,
          7028.04684564101,
          23387.1322253792,
          42556.109375,
          44260.8564723717,
          57927.5900741703,
          5925.79529621207,
          11973.8679087569,
          64651.2164467137,
          20769.1808196589,
          12037.4812354389,
          11661.1931684907,
          40775.2786245716,
          42191.5144000302,
          2599.73616529588,
          55006.6453072237,
          12059.7750268817,
          50728.667429396,
          15597.5210810635,
          49675.3046742775,
          16997.1489389764,
          6178.28506549184,
          2878.59305136851,
          2057.10000220704,
          18127.1864841393,
          31295.1453325019,
          9769.23822653895,
          24493.714070261,
          6252.56913473546,
          33800.5514794393,
          3127.41557125355,
          36752.5154278913,
          12904.3350647553,
          7333.505611842,
          106455.753025944,
          57646.4098921361,
          43721.6230389199,
          45935.9965539678,
          10025.9047946926,
          10952.010609113,
          42940.4052523244,
          28599.9858781267,
          5023.51127180751,
          5287.79066976613,
          4683.00474859418,
          10691.21531579,
          1552.80721166626,
          14127.2112794587,
          2682.23552809652,
          42665.3229305411,
          134753.797686064,
          34468.6021095498,
          8143.525390625,
          15637.2403720663,
          1635.4180120781,
          18232.2447260345,
          20036.4553884275,
          17918.0770676768,
          2447.324282737,
          47714.4521686333,
          22795.4072702571,
          12862.746927421,
          1342.29012106273,
          5591.83473986426,
          22240.1349561848,
          1658.33441792543,
          29617.2967566026,
          9805.18187897016,
          1309.8144985003,
          5459.15859838337,
          6331.67249916797,
          63766.8871132125,
          79201.23024678,
          4260.8396940912,
          46419.5086997581,
          5877.64257977287,
          31680.1860110126,
          13895.2758164137,
          9119.69335803543,
          4445.36476879927,
          37502.5598711804,
          35888.1653780986,
          13975.858226826,
          93521.4417979602,
          35413.9905779938,
          2494.05057169716,
          49551.3345710076,
          4217.220703125,
          3768.66714912817,
          116486.473211409,
          2656.10060307749,
          1816.17027050934,
          9668.72725607406,
          21432.4103390487,
          16675.6383834045,
          33010.2907484654,
          43624.6732149672,
          59323.9646115324,
          9815.81225742683,
          29837.4618769631,
          1590.55299027058,
          2380.16542787272,
          19209.4924392491,
          4288.360974587,
          4417.58413992239,
          26868.0927188784,
          11594.720674923,
          2932.62622070313,
          2397.76100479307,
          14219.7900390625,
          24625.4513438955,
          69287.536587952,
          8497.44830751161,
          11553.0699243664,
          3105.14968064008,
          6420.3544565388,
          12720.9835745591,
          14420.1743171499,
          3623.85491327044,
          2444.47823730257
         ],
         "yaxis": "y"
        }
       ],
       "layout": {
        "legend": {
         "tracegroupgap": 0
        },
        "margin": {
         "t": 60
        },
        "template": {
         "data": {
          "bar": [
           {
            "error_x": {
             "color": "#2a3f5f"
            },
            "error_y": {
             "color": "#2a3f5f"
            },
            "marker": {
             "line": {
              "color": "#E5ECF6",
              "width": 0.5
             },
             "pattern": {
              "fillmode": "overlay",
              "size": 10,
              "solidity": 0.2
             }
            },
            "type": "bar"
           }
          ],
          "barpolar": [
           {
            "marker": {
             "line": {
              "color": "#E5ECF6",
              "width": 0.5
             },
             "pattern": {
              "fillmode": "overlay",
              "size": 10,
              "solidity": 0.2
             }
            },
            "type": "barpolar"
           }
          ],
          "carpet": [
           {
            "aaxis": {
             "endlinecolor": "#2a3f5f",
             "gridcolor": "white",
             "linecolor": "white",
             "minorgridcolor": "white",
             "startlinecolor": "#2a3f5f"
            },
            "baxis": {
             "endlinecolor": "#2a3f5f",
             "gridcolor": "white",
             "linecolor": "white",
             "minorgridcolor": "white",
             "startlinecolor": "#2a3f5f"
            },
            "type": "carpet"
           }
          ],
          "choropleth": [
           {
            "colorbar": {
             "outlinewidth": 0,
             "ticks": ""
            },
            "type": "choropleth"
           }
          ],
          "contour": [
           {
            "colorbar": {
             "outlinewidth": 0,
             "ticks": ""
            },
            "colorscale": [
             [
              0,
              "#0d0887"
             ],
             [
              0.1111111111111111,
              "#46039f"
             ],
             [
              0.2222222222222222,
              "#7201a8"
             ],
             [
              0.3333333333333333,
              "#9c179e"
             ],
             [
              0.4444444444444444,
              "#bd3786"
             ],
             [
              0.5555555555555556,
              "#d8576b"
             ],
             [
              0.6666666666666666,
              "#ed7953"
             ],
             [
              0.7777777777777778,
              "#fb9f3a"
             ],
             [
              0.8888888888888888,
              "#fdca26"
             ],
             [
              1,
              "#f0f921"
             ]
            ],
            "type": "contour"
           }
          ],
          "contourcarpet": [
           {
            "colorbar": {
             "outlinewidth": 0,
             "ticks": ""
            },
            "type": "contourcarpet"
           }
          ],
          "heatmap": [
           {
            "colorbar": {
             "outlinewidth": 0,
             "ticks": ""
            },
            "colorscale": [
             [
              0,
              "#0d0887"
             ],
             [
              0.1111111111111111,
              "#46039f"
             ],
             [
              0.2222222222222222,
              "#7201a8"
             ],
             [
              0.3333333333333333,
              "#9c179e"
             ],
             [
              0.4444444444444444,
              "#bd3786"
             ],
             [
              0.5555555555555556,
              "#d8576b"
             ],
             [
              0.6666666666666666,
              "#ed7953"
             ],
             [
              0.7777777777777778,
              "#fb9f3a"
             ],
             [
              0.8888888888888888,
              "#fdca26"
             ],
             [
              1,
              "#f0f921"
             ]
            ],
            "type": "heatmap"
           }
          ],
          "heatmapgl": [
           {
            "colorbar": {
             "outlinewidth": 0,
             "ticks": ""
            },
            "colorscale": [
             [
              0,
              "#0d0887"
             ],
             [
              0.1111111111111111,
              "#46039f"
             ],
             [
              0.2222222222222222,
              "#7201a8"
             ],
             [
              0.3333333333333333,
              "#9c179e"
             ],
             [
              0.4444444444444444,
              "#bd3786"
             ],
             [
              0.5555555555555556,
              "#d8576b"
             ],
             [
              0.6666666666666666,
              "#ed7953"
             ],
             [
              0.7777777777777778,
              "#fb9f3a"
             ],
             [
              0.8888888888888888,
              "#fdca26"
             ],
             [
              1,
              "#f0f921"
             ]
            ],
            "type": "heatmapgl"
           }
          ],
          "histogram": [
           {
            "marker": {
             "pattern": {
              "fillmode": "overlay",
              "size": 10,
              "solidity": 0.2
             }
            },
            "type": "histogram"
           }
          ],
          "histogram2d": [
           {
            "colorbar": {
             "outlinewidth": 0,
             "ticks": ""
            },
            "colorscale": [
             [
              0,
              "#0d0887"
             ],
             [
              0.1111111111111111,
              "#46039f"
             ],
             [
              0.2222222222222222,
              "#7201a8"
             ],
             [
              0.3333333333333333,
              "#9c179e"
             ],
             [
              0.4444444444444444,
              "#bd3786"
             ],
             [
              0.5555555555555556,
              "#d8576b"
             ],
             [
              0.6666666666666666,
              "#ed7953"
             ],
             [
              0.7777777777777778,
              "#fb9f3a"
             ],
             [
              0.8888888888888888,
              "#fdca26"
             ],
             [
              1,
              "#f0f921"
             ]
            ],
            "type": "histogram2d"
           }
          ],
          "histogram2dcontour": [
           {
            "colorbar": {
             "outlinewidth": 0,
             "ticks": ""
            },
            "colorscale": [
             [
              0,
              "#0d0887"
             ],
             [
              0.1111111111111111,
              "#46039f"
             ],
             [
              0.2222222222222222,
              "#7201a8"
             ],
             [
              0.3333333333333333,
              "#9c179e"
             ],
             [
              0.4444444444444444,
              "#bd3786"
             ],
             [
              0.5555555555555556,
              "#d8576b"
             ],
             [
              0.6666666666666666,
              "#ed7953"
             ],
             [
              0.7777777777777778,
              "#fb9f3a"
             ],
             [
              0.8888888888888888,
              "#fdca26"
             ],
             [
              1,
              "#f0f921"
             ]
            ],
            "type": "histogram2dcontour"
           }
          ],
          "mesh3d": [
           {
            "colorbar": {
             "outlinewidth": 0,
             "ticks": ""
            },
            "type": "mesh3d"
           }
          ],
          "parcoords": [
           {
            "line": {
             "colorbar": {
              "outlinewidth": 0,
              "ticks": ""
             }
            },
            "type": "parcoords"
           }
          ],
          "pie": [
           {
            "automargin": true,
            "type": "pie"
           }
          ],
          "scatter": [
           {
            "marker": {
             "colorbar": {
              "outlinewidth": 0,
              "ticks": ""
             }
            },
            "type": "scatter"
           }
          ],
          "scatter3d": [
           {
            "line": {
             "colorbar": {
              "outlinewidth": 0,
              "ticks": ""
             }
            },
            "marker": {
             "colorbar": {
              "outlinewidth": 0,
              "ticks": ""
             }
            },
            "type": "scatter3d"
           }
          ],
          "scattercarpet": [
           {
            "marker": {
             "colorbar": {
              "outlinewidth": 0,
              "ticks": ""
             }
            },
            "type": "scattercarpet"
           }
          ],
          "scattergeo": [
           {
            "marker": {
             "colorbar": {
              "outlinewidth": 0,
              "ticks": ""
             }
            },
            "type": "scattergeo"
           }
          ],
          "scattergl": [
           {
            "marker": {
             "colorbar": {
              "outlinewidth": 0,
              "ticks": ""
             }
            },
            "type": "scattergl"
           }
          ],
          "scattermapbox": [
           {
            "marker": {
             "colorbar": {
              "outlinewidth": 0,
              "ticks": ""
             }
            },
            "type": "scattermapbox"
           }
          ],
          "scatterpolar": [
           {
            "marker": {
             "colorbar": {
              "outlinewidth": 0,
              "ticks": ""
             }
            },
            "type": "scatterpolar"
           }
          ],
          "scatterpolargl": [
           {
            "marker": {
             "colorbar": {
              "outlinewidth": 0,
              "ticks": ""
             }
            },
            "type": "scatterpolargl"
           }
          ],
          "scatterternary": [
           {
            "marker": {
             "colorbar": {
              "outlinewidth": 0,
              "ticks": ""
             }
            },
            "type": "scatterternary"
           }
          ],
          "surface": [
           {
            "colorbar": {
             "outlinewidth": 0,
             "ticks": ""
            },
            "colorscale": [
             [
              0,
              "#0d0887"
             ],
             [
              0.1111111111111111,
              "#46039f"
             ],
             [
              0.2222222222222222,
              "#7201a8"
             ],
             [
              0.3333333333333333,
              "#9c179e"
             ],
             [
              0.4444444444444444,
              "#bd3786"
             ],
             [
              0.5555555555555556,
              "#d8576b"
             ],
             [
              0.6666666666666666,
              "#ed7953"
             ],
             [
              0.7777777777777778,
              "#fb9f3a"
             ],
             [
              0.8888888888888888,
              "#fdca26"
             ],
             [
              1,
              "#f0f921"
             ]
            ],
            "type": "surface"
           }
          ],
          "table": [
           {
            "cells": {
             "fill": {
              "color": "#EBF0F8"
             },
             "line": {
              "color": "white"
             }
            },
            "header": {
             "fill": {
              "color": "#C8D4E3"
             },
             "line": {
              "color": "white"
             }
            },
            "type": "table"
           }
          ]
         },
         "layout": {
          "annotationdefaults": {
           "arrowcolor": "#2a3f5f",
           "arrowhead": 0,
           "arrowwidth": 1
          },
          "autotypenumbers": "strict",
          "coloraxis": {
           "colorbar": {
            "outlinewidth": 0,
            "ticks": ""
           }
          },
          "colorscale": {
           "diverging": [
            [
             0,
             "#8e0152"
            ],
            [
             0.1,
             "#c51b7d"
            ],
            [
             0.2,
             "#de77ae"
            ],
            [
             0.3,
             "#f1b6da"
            ],
            [
             0.4,
             "#fde0ef"
            ],
            [
             0.5,
             "#f7f7f7"
            ],
            [
             0.6,
             "#e6f5d0"
            ],
            [
             0.7,
             "#b8e186"
            ],
            [
             0.8,
             "#7fbc41"
            ],
            [
             0.9,
             "#4d9221"
            ],
            [
             1,
             "#276419"
            ]
           ],
           "sequential": [
            [
             0,
             "#0d0887"
            ],
            [
             0.1111111111111111,
             "#46039f"
            ],
            [
             0.2222222222222222,
             "#7201a8"
            ],
            [
             0.3333333333333333,
             "#9c179e"
            ],
            [
             0.4444444444444444,
             "#bd3786"
            ],
            [
             0.5555555555555556,
             "#d8576b"
            ],
            [
             0.6666666666666666,
             "#ed7953"
            ],
            [
             0.7777777777777778,
             "#fb9f3a"
            ],
            [
             0.8888888888888888,
             "#fdca26"
            ],
            [
             1,
             "#f0f921"
            ]
           ],
           "sequentialminus": [
            [
             0,
             "#0d0887"
            ],
            [
             0.1111111111111111,
             "#46039f"
            ],
            [
             0.2222222222222222,
             "#7201a8"
            ],
            [
             0.3333333333333333,
             "#9c179e"
            ],
            [
             0.4444444444444444,
             "#bd3786"
            ],
            [
             0.5555555555555556,
             "#d8576b"
            ],
            [
             0.6666666666666666,
             "#ed7953"
            ],
            [
             0.7777777777777778,
             "#fb9f3a"
            ],
            [
             0.8888888888888888,
             "#fdca26"
            ],
            [
             1,
             "#f0f921"
            ]
           ]
          },
          "colorway": [
           "#636efa",
           "#EF553B",
           "#00cc96",
           "#ab63fa",
           "#FFA15A",
           "#19d3f3",
           "#FF6692",
           "#B6E880",
           "#FF97FF",
           "#FECB52"
          ],
          "font": {
           "color": "#2a3f5f"
          },
          "geo": {
           "bgcolor": "white",
           "lakecolor": "white",
           "landcolor": "#E5ECF6",
           "showlakes": true,
           "showland": true,
           "subunitcolor": "white"
          },
          "hoverlabel": {
           "align": "left"
          },
          "hovermode": "closest",
          "mapbox": {
           "style": "light"
          },
          "paper_bgcolor": "white",
          "plot_bgcolor": "#E5ECF6",
          "polar": {
           "angularaxis": {
            "gridcolor": "white",
            "linecolor": "white",
            "ticks": ""
           },
           "bgcolor": "#E5ECF6",
           "radialaxis": {
            "gridcolor": "white",
            "linecolor": "white",
            "ticks": ""
           }
          },
          "scene": {
           "xaxis": {
            "backgroundcolor": "#E5ECF6",
            "gridcolor": "white",
            "gridwidth": 2,
            "linecolor": "white",
            "showbackground": true,
            "ticks": "",
            "zerolinecolor": "white"
           },
           "yaxis": {
            "backgroundcolor": "#E5ECF6",
            "gridcolor": "white",
            "gridwidth": 2,
            "linecolor": "white",
            "showbackground": true,
            "ticks": "",
            "zerolinecolor": "white"
           },
           "zaxis": {
            "backgroundcolor": "#E5ECF6",
            "gridcolor": "white",
            "gridwidth": 2,
            "linecolor": "white",
            "showbackground": true,
            "ticks": "",
            "zerolinecolor": "white"
           }
          },
          "shapedefaults": {
           "line": {
            "color": "#2a3f5f"
           }
          },
          "ternary": {
           "aaxis": {
            "gridcolor": "white",
            "linecolor": "white",
            "ticks": ""
           },
           "baxis": {
            "gridcolor": "white",
            "linecolor": "white",
            "ticks": ""
           },
           "bgcolor": "#E5ECF6",
           "caxis": {
            "gridcolor": "white",
            "linecolor": "white",
            "ticks": ""
           }
          },
          "title": {
           "x": 0.05
          },
          "xaxis": {
           "automargin": true,
           "gridcolor": "white",
           "linecolor": "white",
           "ticks": "",
           "title": {
            "standoff": 15
           },
           "zerolinecolor": "white",
           "zerolinewidth": 2
          },
          "yaxis": {
           "automargin": true,
           "gridcolor": "white",
           "linecolor": "white",
           "ticks": "",
           "title": {
            "standoff": 15
           },
           "zerolinecolor": "white",
           "zerolinewidth": 2
          }
         }
        },
        "xaxis": {
         "anchor": "y",
         "domain": [
          0,
          1
         ],
         "title": {
          "text": "Score"
         },
         "type": "log"
        },
        "yaxis": {
         "anchor": "x",
         "domain": [
          0,
          1
         ],
         "title": {
          "text": "Value"
         }
        }
       }
      }
     },
     "metadata": {},
     "output_type": "display_data"
    }
   ],
   "source": [
    "fig = px.scatter(merged_data, x=\"Score\", y=\"Value\", log_x=True,\n",
    "                 hover_data=[\"Country\", \"Score\"])\n",
    "fig.show()"
   ]
  },
  {
   "cell_type": "code",
   "execution_count": 26,
   "metadata": {},
   "outputs": [
    {
     "data": {
      "application/vnd.plotly.v1+json": {
       "config": {
        "plotlyServerURL": "https://plot.ly"
       },
       "data": [
        {
         "customdata": [
          [
           "Angola"
          ],
          [
           "Albania"
          ],
          [
           "Argentina"
          ],
          [
           "Armenia"
          ],
          [
           "Australia"
          ],
          [
           "Austria"
          ],
          [
           "Azerbaijan"
          ],
          [
           "Burundi"
          ],
          [
           "Belgium"
          ],
          [
           "Benin"
          ],
          [
           "Burkina Faso"
          ],
          [
           "Bangladesh"
          ],
          [
           "Bulgaria"
          ],
          [
           "Bahrain"
          ],
          [
           "Bosnia and Herzegovina"
          ],
          [
           "Belarus"
          ],
          [
           "Belize"
          ],
          [
           "Bolivia"
          ],
          [
           "Brazil"
          ],
          [
           "Barbados"
          ],
          [
           "Brunei Darussalam"
          ],
          [
           "Botswana"
          ],
          [
           "Central African Republic"
          ],
          [
           "Canada"
          ],
          [
           "Switzerland"
          ],
          [
           "Chile"
          ],
          [
           "China"
          ],
          [
           "Cameroon"
          ],
          [
           "Colombia"
          ],
          [
           "Comoros"
          ],
          [
           "Cabo Verde"
          ],
          [
           "Costa Rica"
          ],
          [
           "Cyprus"
          ],
          [
           "Czech Republic"
          ],
          [
           "Germany"
          ],
          [
           "Djibouti"
          ],
          [
           "Dominica"
          ],
          [
           "Denmark"
          ],
          [
           "Dominican Republic"
          ],
          [
           "Algeria"
          ],
          [
           "Ecuador"
          ],
          [
           "Spain"
          ],
          [
           "Estonia"
          ],
          [
           "Ethiopia"
          ],
          [
           "Finland"
          ],
          [
           "Fiji"
          ],
          [
           "France"
          ],
          [
           "Gabon"
          ],
          [
           "United Kingdom"
          ],
          [
           "Georgia"
          ],
          [
           "Ghana"
          ],
          [
           "Guinea"
          ],
          [
           "Guinea-Bissau"
          ],
          [
           "Equatorial Guinea"
          ],
          [
           "Greece"
          ],
          [
           "Guatemala"
          ],
          [
           "Guyana"
          ],
          [
           "Honduras"
          ],
          [
           "Croatia"
          ],
          [
           "Haiti"
          ],
          [
           "Hungary"
          ],
          [
           "Indonesia"
          ],
          [
           "India"
          ],
          [
           "Ireland"
          ],
          [
           "Iceland"
          ],
          [
           "Israel"
          ],
          [
           "Italy"
          ],
          [
           "Jamaica"
          ],
          [
           "Jordan"
          ],
          [
           "Japan"
          ],
          [
           "Kazakhstan"
          ],
          [
           "Kenya"
          ],
          [
           "Kyrgyz Republic"
          ],
          [
           "Cambodia"
          ],
          [
           "Lebanon"
          ],
          [
           "Liberia"
          ],
          [
           "Sri Lanka"
          ],
          [
           "Lesotho"
          ],
          [
           "Lithuania"
          ],
          [
           "Luxembourg"
          ],
          [
           "Latvia"
          ],
          [
           "Morocco"
          ],
          [
           "Moldova"
          ],
          [
           "Madagascar"
          ],
          [
           "Maldives"
          ],
          [
           "Mexico"
          ],
          [
           "North Macedonia"
          ],
          [
           "Mali"
          ],
          [
           "Malta"
          ],
          [
           "Montenegro"
          ],
          [
           "Mongolia"
          ],
          [
           "Mozambique"
          ],
          [
           "Mauritania"
          ],
          [
           "Mauritius"
          ],
          [
           "Malawi"
          ],
          [
           "Malaysia"
          ],
          [
           "Namibia"
          ],
          [
           "Niger"
          ],
          [
           "Nigeria"
          ],
          [
           "Nicaragua"
          ],
          [
           "Netherlands"
          ],
          [
           "Norway"
          ],
          [
           "Nepal"
          ],
          [
           "New Zealand"
          ],
          [
           "Pakistan"
          ],
          [
           "Panama"
          ],
          [
           "Peru"
          ],
          [
           "Philippines"
          ],
          [
           "Papua New Guinea"
          ],
          [
           "Poland"
          ],
          [
           "Portugal"
          ],
          [
           "Paraguay"
          ],
          [
           "Qatar"
          ],
          [
           "Romania"
          ],
          [
           "Rwanda"
          ],
          [
           "Saudi Arabia"
          ],
          [
           "Sudan"
          ],
          [
           "Senegal"
          ],
          [
           "Singapore"
          ],
          [
           "Solomon Islands"
          ],
          [
           "Sierra Leone"
          ],
          [
           "El Salvador"
          ],
          [
           "Serbia"
          ],
          [
           "Suriname"
          ],
          [
           "Slovak Republic"
          ],
          [
           "Slovenia"
          ],
          [
           "Sweden"
          ],
          [
           "Eswatini"
          ],
          [
           "Seychelles"
          ],
          [
           "Chad"
          ],
          [
           "Togo"
          ],
          [
           "Thailand"
          ],
          [
           "Tajikistan"
          ],
          [
           "Timor-Leste"
          ],
          [
           "Trinidad and Tobago"
          ],
          [
           "Tunisia"
          ],
          [
           "Tanzania"
          ],
          [
           "Uganda"
          ],
          [
           "Ukraine"
          ],
          [
           "Uruguay"
          ],
          [
           "United States"
          ],
          [
           "Uzbekistan"
          ],
          [
           "Vietnam"
          ],
          [
           "Vanuatu"
          ],
          [
           "Samoa"
          ],
          [
           "Kosovo"
          ],
          [
           "South Africa"
          ],
          [
           "Zambia"
          ],
          [
           "Zimbabwe"
          ]
         ],
         "hovertemplate": "Score=%{x}<br>Value=%{y}<br>Country=%{customdata[0]}<extra></extra>",
         "legendgroup": "",
         "marker": {
          "color": "#636efa",
          "symbol": "circle"
         },
         "mode": "markers",
         "name": "",
         "orientation": "v",
         "showlegend": false,
         "type": "scatter",
         "x": [
          "52.6",
          "66.6",
          "50.1",
          "65.3",
          "77.7",
          "73.8",
          "61.6",
          "39.4",
          "69.6",
          "61.0",
          "58.3",
          "52.7",
          "71.0",
          "62.0",
          "63.4",
          "53.0",
          "56.6",
          "43.0",
          "53.3",
          "71.3",
          "64.8",
          "64.8",
          "45.7",
          "76.6",
          "84.2",
          "74.4",
          "48.0",
          "52.9",
          "65.1",
          "50.4",
          "66.7",
          "65.4",
          "72.9",
          "74.4",
          "76.1",
          "55.3",
          "54.4",
          "78.0",
          "63.0",
          "45.8",
          "54.3",
          "68.2",
          "80.0",
          "49.6",
          "78.3",
          "56.4",
          "65.9",
          "55.8",
          "72.7",
          "71.8",
          "59.8",
          "54.2",
          "46.0",
          "47.2",
          "61.5",
          "63.2",
          "59.5",
          "59.5",
          "67.6",
          "50.0",
          "66.9",
          "64.4",
          "53.9",
          "82.0",
          "77.0",
          "68.0",
          "65.4",
          "67.4",
          "60.1",
          "69.9",
          "64.4",
          "52.6",
          "55.8",
          "57.1",
          "47.3",
          "47.9",
          "53.3",
          "48.1",
          "75.8",
          "80.6",
          "74.8",
          "59.2",
          "61.3",
          "58.9",
          "47.3",
          "63.7",
          "65.7",
          "55.9",
          "71.5",
          "57.8",
          "63.9",
          "51.3",
          "55.3",
          "70.9",
          "53.0",
          "68.1",
          "59.2",
          "54.9",
          "54.4",
          "54.8",
          "79.5",
          "76.9",
          "49.7",
          "80.6",
          "48.8",
          "65.4",
          "66.5",
          "61.1",
          "54.6",
          "68.7",
          "70.8",
          "62.9",
          "67.7",
          "67.1",
          "57.1",
          "55.5",
          "32.0",
          "60.0",
          "84.4",
          "56.5",
          "52.0",
          "59.6",
          "65.2",
          "48.1",
          "69.7",
          "70.5",
          "77.9",
          "51.4",
          "61.1",
          "49.8",
          "57.2",
          "63.2",
          "49.7",
          "46.3",
          "58.8",
          "54.2",
          "59.5",
          "54.2",
          "54.1",
          "70.0",
          "72.1",
          "55.7",
          "60.6",
          "62.9",
          "68.3",
          "60.1",
          "56.2",
          "48.7",
          "33.1"
         ],
         "xaxis": "x",
         "y": [
          6581.04202131983,
          15646.0415226344,
          23627.3942944195,
          14630.2442233356,
          55807.4440245279,
          58427.4956899576,
          15842.8895089134,
          793.236434389554,
          58930.9363265369,
          3789.27334657883,
          2461.94284491403,
          6613.01327474804,
          26705.438859784,
          45411.1203505007,
          16846.4558595952,
          21698.5740886624,
          6921.45007598508,
          9030.38768128724,
          16056.0161749037,
          14816.8628612989,
          66619.8709407373,
          17603.7267520514,
          1020.53316475871,
          52085.0356853372,
          77324.0881086006,
          29104.0580923,
          19338.234084501,
          4064.46689476455,
          16893.8171849121,
          3284.40149225267,
          7028.04684564101,
          23387.1322253792,
          42556.109375,
          44260.8564723717,
          57927.5900741703,
          5925.79529621207,
          11973.8679087569,
          64651.2164467137,
          20769.1808196589,
          12037.4812354389,
          11661.1931684907,
          40775.2786245716,
          42191.5144000302,
          2599.73616529588,
          55006.6453072237,
          12059.7750268817,
          50728.667429396,
          15597.5210810635,
          49675.3046742775,
          16997.1489389764,
          6178.28506549184,
          2878.59305136851,
          2057.10000220704,
          18127.1864841393,
          31295.1453325019,
          9769.23822653895,
          24493.714070261,
          6252.56913473546,
          33800.5514794393,
          3127.41557125355,
          36752.5154278913,
          12904.3350647553,
          7333.505611842,
          106455.753025944,
          57646.4098921361,
          43721.6230389199,
          45935.9965539678,
          10025.9047946926,
          10952.010609113,
          42940.4052523244,
          28599.9858781267,
          5023.51127180751,
          5287.79066976613,
          4683.00474859418,
          10691.21531579,
          1552.80721166626,
          14127.2112794587,
          2682.23552809652,
          42665.3229305411,
          134753.797686064,
          34468.6021095498,
          8143.525390625,
          15637.2403720663,
          1635.4180120781,
          18232.2447260345,
          20036.4553884275,
          17918.0770676768,
          2447.324282737,
          47714.4521686333,
          22795.4072702571,
          12862.746927421,
          1342.29012106273,
          5591.83473986426,
          22240.1349561848,
          1658.33441792543,
          29617.2967566026,
          9805.18187897016,
          1309.8144985003,
          5459.15859838337,
          6331.67249916797,
          63766.8871132125,
          79201.23024678,
          4260.8396940912,
          46419.5086997581,
          5877.64257977287,
          31680.1860110126,
          13895.2758164137,
          9119.69335803543,
          4445.36476879927,
          37502.5598711804,
          35888.1653780986,
          13975.858226826,
          93521.4417979602,
          35413.9905779938,
          2494.05057169716,
          49551.3345710076,
          4217.220703125,
          3768.66714912817,
          116486.473211409,
          2656.10060307749,
          1816.17027050934,
          9668.72725607406,
          21432.4103390487,
          16675.6383834045,
          33010.2907484654,
          43624.6732149672,
          59323.9646115324,
          9815.81225742683,
          29837.4618769631,
          1590.55299027058,
          2380.16542787272,
          19209.4924392491,
          4288.360974587,
          4417.58413992239,
          26868.0927188784,
          11594.720674923,
          2932.62622070313,
          2397.76100479307,
          14219.7900390625,
          24625.4513438955,
          69287.536587952,
          8497.44830751161,
          11553.0699243664,
          3105.14968064008,
          6420.3544565388,
          12720.9835745591,
          14420.1743171499,
          3623.85491327044,
          2444.47823730257
         ],
         "yaxis": "y"
        },
        {
         "hovertemplate": "<b>OLS trendline</b><br>Value = 1753.44 * Score + -84020.4<br>R<sup>2</sup>=0.552464<br><br>Score=%{x}<br>Value=%{y} <b>(trend)</b><extra></extra>",
         "legendgroup": "",
         "marker": {
          "color": "#636efa",
          "symbol": "circle"
         },
         "mode": "lines",
         "name": "",
         "showlegend": false,
         "type": "scatter",
         "x": [
          "32.0",
          "33.1",
          "39.4",
          "43.0",
          "45.7",
          "45.8",
          "46.0",
          "46.3",
          "47.2",
          "47.3",
          "47.3",
          "47.9",
          "48.0",
          "48.1",
          "48.1",
          "48.7",
          "48.8",
          "49.6",
          "49.7",
          "49.7",
          "49.8",
          "50.0",
          "50.1",
          "50.4",
          "51.3",
          "51.4",
          "52.0",
          "52.6",
          "52.6",
          "52.7",
          "52.9",
          "53.0",
          "53.0",
          "53.3",
          "53.3",
          "53.9",
          "54.1",
          "54.2",
          "54.2",
          "54.2",
          "54.3",
          "54.4",
          "54.4",
          "54.6",
          "54.8",
          "54.9",
          "55.3",
          "55.3",
          "55.5",
          "55.7",
          "55.8",
          "55.8",
          "55.9",
          "56.2",
          "56.4",
          "56.5",
          "56.6",
          "57.1",
          "57.1",
          "57.2",
          "57.8",
          "58.3",
          "58.8",
          "58.9",
          "59.2",
          "59.2",
          "59.5",
          "59.5",
          "59.5",
          "59.6",
          "59.8",
          "60.0",
          "60.1",
          "60.1",
          "60.6",
          "61.0",
          "61.1",
          "61.1",
          "61.3",
          "61.5",
          "61.6",
          "62.0",
          "62.9",
          "62.9",
          "63.0",
          "63.2",
          "63.2",
          "63.4",
          "63.7",
          "63.9",
          "64.4",
          "64.4",
          "64.8",
          "64.8",
          "65.1",
          "65.2",
          "65.3",
          "65.4",
          "65.4",
          "65.4",
          "65.7",
          "65.9",
          "66.5",
          "66.6",
          "66.7",
          "66.9",
          "67.1",
          "67.4",
          "67.6",
          "67.7",
          "68.0",
          "68.1",
          "68.2",
          "68.3",
          "68.7",
          "69.6",
          "69.7",
          "69.9",
          "70.0",
          "70.5",
          "70.8",
          "70.9",
          "71.0",
          "71.3",
          "71.5",
          "71.8",
          "72.1",
          "72.7",
          "72.9",
          "73.8",
          "74.4",
          "74.4",
          "74.8",
          "75.8",
          "76.1",
          "76.6",
          "76.9",
          "77.0",
          "77.7",
          "77.9",
          "78.0",
          "78.3",
          "79.5",
          "80.0",
          "80.6",
          "80.6",
          "82.0",
          "84.2",
          "84.4"
         ],
         "xaxis": "x",
         "y": [
          -27910.33320532403,
          -25981.551197423607,
          -14934.890606721208,
          -8622.513126319842,
          -3888.2300160188024,
          -3712.8861971187725,
          -3362.1985593186982,
          -2836.1671026185795,
          -1258.072732518238,
          -1082.728913618208,
          -1082.728913618208,
          -30.666000217970577,
          144.67781868207385,
          320.0216375821037,
          320.0216375821037,
          1372.0845509823412,
          1547.428369882371,
          2950.178921082683,
          3125.5227399827127,
          3125.5227399827127,
          3300.8665588827425,
          3651.5541966828314,
          3826.898015582876,
          4352.92947228298,
          5931.023842383322,
          6106.367661283366,
          7158.430574683589,
          8210.493488083826,
          8210.493488083826,
          8385.837306983856,
          8736.52494478393,
          8911.868763683975,
          8911.868763683975,
          9437.90022038408,
          9437.90022038408,
          10489.963133784317,
          10840.65077158439,
          11015.994590484435,
          11015.994590484435,
          11015.994590484435,
          11191.338409384465,
          11366.68222828451,
          11366.68222828451,
          11717.369866084584,
          12068.057503884658,
          12243.401322784688,
          12944.776598384837,
          12944.776598384837,
          13295.464236184926,
          13646.151873985,
          13821.49569288503,
          13821.49569288503,
          13996.839511785074,
          14522.870968485193,
          14873.558606285267,
          15048.902425185312,
          15224.246244085341,
          16100.965338585534,
          16100.965338585534,
          16276.309157485579,
          17328.3720708858,
          18205.09116538598,
          19081.810259886173,
          19257.154078786218,
          19783.185535486336,
          19783.185535486336,
          20309.216992186455,
          20309.216992186455,
          20309.216992186455,
          20484.560811086485,
          20835.24844888656,
          21185.936086686634,
          21361.279905586678,
          21361.279905586678,
          22237.99900008687,
          22939.37427568702,
          23114.718094587064,
          23114.718094587064,
          23465.405732387124,
          23816.093370187213,
          23991.437189087257,
          24692.812464687406,
          26270.906834787747,
          26270.906834787747,
          26446.250653687777,
          26796.938291487866,
          26796.938291487866,
          27147.625929287926,
          27673.65738598806,
          28024.34502378812,
          28901.064118288326,
          28901.064118288326,
          29602.43939388846,
          29602.43939388846,
          30128.47085058858,
          30303.814669488624,
          30479.158488388653,
          30654.502307288712,
          30654.502307288712,
          30654.502307288712,
          31180.533763988817,
          31531.22140178889,
          32583.284315189114,
          32758.628134089144,
          32933.9719529892,
          33284.65959078928,
          33635.34722858934,
          34161.37868528947,
          34512.06632308953,
          34687.410141989574,
          35213.44159868969,
          35388.78541758972,
          35564.12923648977,
          35739.4730553898,
          36440.84833098996,
          38018.94270109029,
          38194.286519990346,
          38544.97415779042,
          38720.31797669045,
          39597.03707119064,
          40123.06852789075,
          40298.41234679081,
          40473.75616569084,
          40999.78762239094,
          41350.475260191015,
          41876.506716891134,
          42402.53817359124,
          43454.60108699149,
          43805.288724791564,
          45383.38309489189,
          46435.44600829214,
          46435.44600829214,
          47136.82128389226,
          48890.25947289265,
          49416.29092959277,
          50293.010024092946,
          50819.041480793094,
          50994.385299693124,
          52221.79203199339,
          52572.47966979348,
          52747.82348869351,
          53273.8549453936,
          55377.980772194074,
          56254.69986669425,
          57306.76278009449,
          57306.76278009449,
          59761.576244695025,
          63619.14026049586,
          63969.827898295945
         ],
         "yaxis": "y"
        }
       ],
       "layout": {
        "legend": {
         "tracegroupgap": 0
        },
        "margin": {
         "t": 60
        },
        "template": {
         "data": {
          "bar": [
           {
            "error_x": {
             "color": "#2a3f5f"
            },
            "error_y": {
             "color": "#2a3f5f"
            },
            "marker": {
             "line": {
              "color": "#E5ECF6",
              "width": 0.5
             },
             "pattern": {
              "fillmode": "overlay",
              "size": 10,
              "solidity": 0.2
             }
            },
            "type": "bar"
           }
          ],
          "barpolar": [
           {
            "marker": {
             "line": {
              "color": "#E5ECF6",
              "width": 0.5
             },
             "pattern": {
              "fillmode": "overlay",
              "size": 10,
              "solidity": 0.2
             }
            },
            "type": "barpolar"
           }
          ],
          "carpet": [
           {
            "aaxis": {
             "endlinecolor": "#2a3f5f",
             "gridcolor": "white",
             "linecolor": "white",
             "minorgridcolor": "white",
             "startlinecolor": "#2a3f5f"
            },
            "baxis": {
             "endlinecolor": "#2a3f5f",
             "gridcolor": "white",
             "linecolor": "white",
             "minorgridcolor": "white",
             "startlinecolor": "#2a3f5f"
            },
            "type": "carpet"
           }
          ],
          "choropleth": [
           {
            "colorbar": {
             "outlinewidth": 0,
             "ticks": ""
            },
            "type": "choropleth"
           }
          ],
          "contour": [
           {
            "colorbar": {
             "outlinewidth": 0,
             "ticks": ""
            },
            "colorscale": [
             [
              0,
              "#0d0887"
             ],
             [
              0.1111111111111111,
              "#46039f"
             ],
             [
              0.2222222222222222,
              "#7201a8"
             ],
             [
              0.3333333333333333,
              "#9c179e"
             ],
             [
              0.4444444444444444,
              "#bd3786"
             ],
             [
              0.5555555555555556,
              "#d8576b"
             ],
             [
              0.6666666666666666,
              "#ed7953"
             ],
             [
              0.7777777777777778,
              "#fb9f3a"
             ],
             [
              0.8888888888888888,
              "#fdca26"
             ],
             [
              1,
              "#f0f921"
             ]
            ],
            "type": "contour"
           }
          ],
          "contourcarpet": [
           {
            "colorbar": {
             "outlinewidth": 0,
             "ticks": ""
            },
            "type": "contourcarpet"
           }
          ],
          "heatmap": [
           {
            "colorbar": {
             "outlinewidth": 0,
             "ticks": ""
            },
            "colorscale": [
             [
              0,
              "#0d0887"
             ],
             [
              0.1111111111111111,
              "#46039f"
             ],
             [
              0.2222222222222222,
              "#7201a8"
             ],
             [
              0.3333333333333333,
              "#9c179e"
             ],
             [
              0.4444444444444444,
              "#bd3786"
             ],
             [
              0.5555555555555556,
              "#d8576b"
             ],
             [
              0.6666666666666666,
              "#ed7953"
             ],
             [
              0.7777777777777778,
              "#fb9f3a"
             ],
             [
              0.8888888888888888,
              "#fdca26"
             ],
             [
              1,
              "#f0f921"
             ]
            ],
            "type": "heatmap"
           }
          ],
          "heatmapgl": [
           {
            "colorbar": {
             "outlinewidth": 0,
             "ticks": ""
            },
            "colorscale": [
             [
              0,
              "#0d0887"
             ],
             [
              0.1111111111111111,
              "#46039f"
             ],
             [
              0.2222222222222222,
              "#7201a8"
             ],
             [
              0.3333333333333333,
              "#9c179e"
             ],
             [
              0.4444444444444444,
              "#bd3786"
             ],
             [
              0.5555555555555556,
              "#d8576b"
             ],
             [
              0.6666666666666666,
              "#ed7953"
             ],
             [
              0.7777777777777778,
              "#fb9f3a"
             ],
             [
              0.8888888888888888,
              "#fdca26"
             ],
             [
              1,
              "#f0f921"
             ]
            ],
            "type": "heatmapgl"
           }
          ],
          "histogram": [
           {
            "marker": {
             "pattern": {
              "fillmode": "overlay",
              "size": 10,
              "solidity": 0.2
             }
            },
            "type": "histogram"
           }
          ],
          "histogram2d": [
           {
            "colorbar": {
             "outlinewidth": 0,
             "ticks": ""
            },
            "colorscale": [
             [
              0,
              "#0d0887"
             ],
             [
              0.1111111111111111,
              "#46039f"
             ],
             [
              0.2222222222222222,
              "#7201a8"
             ],
             [
              0.3333333333333333,
              "#9c179e"
             ],
             [
              0.4444444444444444,
              "#bd3786"
             ],
             [
              0.5555555555555556,
              "#d8576b"
             ],
             [
              0.6666666666666666,
              "#ed7953"
             ],
             [
              0.7777777777777778,
              "#fb9f3a"
             ],
             [
              0.8888888888888888,
              "#fdca26"
             ],
             [
              1,
              "#f0f921"
             ]
            ],
            "type": "histogram2d"
           }
          ],
          "histogram2dcontour": [
           {
            "colorbar": {
             "outlinewidth": 0,
             "ticks": ""
            },
            "colorscale": [
             [
              0,
              "#0d0887"
             ],
             [
              0.1111111111111111,
              "#46039f"
             ],
             [
              0.2222222222222222,
              "#7201a8"
             ],
             [
              0.3333333333333333,
              "#9c179e"
             ],
             [
              0.4444444444444444,
              "#bd3786"
             ],
             [
              0.5555555555555556,
              "#d8576b"
             ],
             [
              0.6666666666666666,
              "#ed7953"
             ],
             [
              0.7777777777777778,
              "#fb9f3a"
             ],
             [
              0.8888888888888888,
              "#fdca26"
             ],
             [
              1,
              "#f0f921"
             ]
            ],
            "type": "histogram2dcontour"
           }
          ],
          "mesh3d": [
           {
            "colorbar": {
             "outlinewidth": 0,
             "ticks": ""
            },
            "type": "mesh3d"
           }
          ],
          "parcoords": [
           {
            "line": {
             "colorbar": {
              "outlinewidth": 0,
              "ticks": ""
             }
            },
            "type": "parcoords"
           }
          ],
          "pie": [
           {
            "automargin": true,
            "type": "pie"
           }
          ],
          "scatter": [
           {
            "marker": {
             "colorbar": {
              "outlinewidth": 0,
              "ticks": ""
             }
            },
            "type": "scatter"
           }
          ],
          "scatter3d": [
           {
            "line": {
             "colorbar": {
              "outlinewidth": 0,
              "ticks": ""
             }
            },
            "marker": {
             "colorbar": {
              "outlinewidth": 0,
              "ticks": ""
             }
            },
            "type": "scatter3d"
           }
          ],
          "scattercarpet": [
           {
            "marker": {
             "colorbar": {
              "outlinewidth": 0,
              "ticks": ""
             }
            },
            "type": "scattercarpet"
           }
          ],
          "scattergeo": [
           {
            "marker": {
             "colorbar": {
              "outlinewidth": 0,
              "ticks": ""
             }
            },
            "type": "scattergeo"
           }
          ],
          "scattergl": [
           {
            "marker": {
             "colorbar": {
              "outlinewidth": 0,
              "ticks": ""
             }
            },
            "type": "scattergl"
           }
          ],
          "scattermapbox": [
           {
            "marker": {
             "colorbar": {
              "outlinewidth": 0,
              "ticks": ""
             }
            },
            "type": "scattermapbox"
           }
          ],
          "scatterpolar": [
           {
            "marker": {
             "colorbar": {
              "outlinewidth": 0,
              "ticks": ""
             }
            },
            "type": "scatterpolar"
           }
          ],
          "scatterpolargl": [
           {
            "marker": {
             "colorbar": {
              "outlinewidth": 0,
              "ticks": ""
             }
            },
            "type": "scatterpolargl"
           }
          ],
          "scatterternary": [
           {
            "marker": {
             "colorbar": {
              "outlinewidth": 0,
              "ticks": ""
             }
            },
            "type": "scatterternary"
           }
          ],
          "surface": [
           {
            "colorbar": {
             "outlinewidth": 0,
             "ticks": ""
            },
            "colorscale": [
             [
              0,
              "#0d0887"
             ],
             [
              0.1111111111111111,
              "#46039f"
             ],
             [
              0.2222222222222222,
              "#7201a8"
             ],
             [
              0.3333333333333333,
              "#9c179e"
             ],
             [
              0.4444444444444444,
              "#bd3786"
             ],
             [
              0.5555555555555556,
              "#d8576b"
             ],
             [
              0.6666666666666666,
              "#ed7953"
             ],
             [
              0.7777777777777778,
              "#fb9f3a"
             ],
             [
              0.8888888888888888,
              "#fdca26"
             ],
             [
              1,
              "#f0f921"
             ]
            ],
            "type": "surface"
           }
          ],
          "table": [
           {
            "cells": {
             "fill": {
              "color": "#EBF0F8"
             },
             "line": {
              "color": "white"
             }
            },
            "header": {
             "fill": {
              "color": "#C8D4E3"
             },
             "line": {
              "color": "white"
             }
            },
            "type": "table"
           }
          ]
         },
         "layout": {
          "annotationdefaults": {
           "arrowcolor": "#2a3f5f",
           "arrowhead": 0,
           "arrowwidth": 1
          },
          "autotypenumbers": "strict",
          "coloraxis": {
           "colorbar": {
            "outlinewidth": 0,
            "ticks": ""
           }
          },
          "colorscale": {
           "diverging": [
            [
             0,
             "#8e0152"
            ],
            [
             0.1,
             "#c51b7d"
            ],
            [
             0.2,
             "#de77ae"
            ],
            [
             0.3,
             "#f1b6da"
            ],
            [
             0.4,
             "#fde0ef"
            ],
            [
             0.5,
             "#f7f7f7"
            ],
            [
             0.6,
             "#e6f5d0"
            ],
            [
             0.7,
             "#b8e186"
            ],
            [
             0.8,
             "#7fbc41"
            ],
            [
             0.9,
             "#4d9221"
            ],
            [
             1,
             "#276419"
            ]
           ],
           "sequential": [
            [
             0,
             "#0d0887"
            ],
            [
             0.1111111111111111,
             "#46039f"
            ],
            [
             0.2222222222222222,
             "#7201a8"
            ],
            [
             0.3333333333333333,
             "#9c179e"
            ],
            [
             0.4444444444444444,
             "#bd3786"
            ],
            [
             0.5555555555555556,
             "#d8576b"
            ],
            [
             0.6666666666666666,
             "#ed7953"
            ],
            [
             0.7777777777777778,
             "#fb9f3a"
            ],
            [
             0.8888888888888888,
             "#fdca26"
            ],
            [
             1,
             "#f0f921"
            ]
           ],
           "sequentialminus": [
            [
             0,
             "#0d0887"
            ],
            [
             0.1111111111111111,
             "#46039f"
            ],
            [
             0.2222222222222222,
             "#7201a8"
            ],
            [
             0.3333333333333333,
             "#9c179e"
            ],
            [
             0.4444444444444444,
             "#bd3786"
            ],
            [
             0.5555555555555556,
             "#d8576b"
            ],
            [
             0.6666666666666666,
             "#ed7953"
            ],
            [
             0.7777777777777778,
             "#fb9f3a"
            ],
            [
             0.8888888888888888,
             "#fdca26"
            ],
            [
             1,
             "#f0f921"
            ]
           ]
          },
          "colorway": [
           "#636efa",
           "#EF553B",
           "#00cc96",
           "#ab63fa",
           "#FFA15A",
           "#19d3f3",
           "#FF6692",
           "#B6E880",
           "#FF97FF",
           "#FECB52"
          ],
          "font": {
           "color": "#2a3f5f"
          },
          "geo": {
           "bgcolor": "white",
           "lakecolor": "white",
           "landcolor": "#E5ECF6",
           "showlakes": true,
           "showland": true,
           "subunitcolor": "white"
          },
          "hoverlabel": {
           "align": "left"
          },
          "hovermode": "closest",
          "mapbox": {
           "style": "light"
          },
          "paper_bgcolor": "white",
          "plot_bgcolor": "#E5ECF6",
          "polar": {
           "angularaxis": {
            "gridcolor": "white",
            "linecolor": "white",
            "ticks": ""
           },
           "bgcolor": "#E5ECF6",
           "radialaxis": {
            "gridcolor": "white",
            "linecolor": "white",
            "ticks": ""
           }
          },
          "scene": {
           "xaxis": {
            "backgroundcolor": "#E5ECF6",
            "gridcolor": "white",
            "gridwidth": 2,
            "linecolor": "white",
            "showbackground": true,
            "ticks": "",
            "zerolinecolor": "white"
           },
           "yaxis": {
            "backgroundcolor": "#E5ECF6",
            "gridcolor": "white",
            "gridwidth": 2,
            "linecolor": "white",
            "showbackground": true,
            "ticks": "",
            "zerolinecolor": "white"
           },
           "zaxis": {
            "backgroundcolor": "#E5ECF6",
            "gridcolor": "white",
            "gridwidth": 2,
            "linecolor": "white",
            "showbackground": true,
            "ticks": "",
            "zerolinecolor": "white"
           }
          },
          "shapedefaults": {
           "line": {
            "color": "#2a3f5f"
           }
          },
          "ternary": {
           "aaxis": {
            "gridcolor": "white",
            "linecolor": "white",
            "ticks": ""
           },
           "baxis": {
            "gridcolor": "white",
            "linecolor": "white",
            "ticks": ""
           },
           "bgcolor": "#E5ECF6",
           "caxis": {
            "gridcolor": "white",
            "linecolor": "white",
            "ticks": ""
           }
          },
          "title": {
           "x": 0.05
          },
          "xaxis": {
           "automargin": true,
           "gridcolor": "white",
           "linecolor": "white",
           "ticks": "",
           "title": {
            "standoff": 15
           },
           "zerolinecolor": "white",
           "zerolinewidth": 2
          },
          "yaxis": {
           "automargin": true,
           "gridcolor": "white",
           "linecolor": "white",
           "ticks": "",
           "title": {
            "standoff": 15
           },
           "zerolinecolor": "white",
           "zerolinewidth": 2
          }
         }
        },
        "xaxis": {
         "anchor": "y",
         "domain": [
          0,
          1
         ],
         "title": {
          "text": "Score"
         },
         "type": "log"
        },
        "yaxis": {
         "anchor": "x",
         "domain": [
          0,
          1
         ],
         "title": {
          "text": "Value"
         }
        }
       }
      }
     },
     "metadata": {},
     "output_type": "display_data"
    }
   ],
   "source": [
    "fig = px.scatter(merged_data, x=\"Score\", y=\"Value\", \n",
    "                 trendline=\"ols\", log_x=True,\n",
    "                 hover_data=[\"Country\", \"Score\"])\n",
    "fig.show()"
   ]
  },
  {
   "cell_type": "code",
   "execution_count": 25,
   "metadata": {},
   "outputs": [
    {
     "ename": "TypeError",
     "evalue": "No loop matching the specified signature and casting was found for ufunc lstsq_n",
     "output_type": "error",
     "traceback": [
      "\u001b[1;31m---------------------------------------------------------------------------\u001b[0m",
      "\u001b[1;31mTypeError\u001b[0m                                 Traceback (most recent call last)",
      "\u001b[1;32m~\\AppData\\Local\\Temp/ipykernel_13428/2115586698.py\u001b[0m in \u001b[0;36m<module>\u001b[1;34m\u001b[0m\n\u001b[0;32m     14\u001b[0m                  hover_data=[\"Country\", \"Score\"])\n\u001b[0;32m     15\u001b[0m \u001b[1;31m# fit a linear model\u001b[0m\u001b[1;33m\u001b[0m\u001b[1;33m\u001b[0m\u001b[0m\n\u001b[1;32m---> 16\u001b[1;33m m, c = fit_line(x = merged_data.Score, \n\u001b[0m\u001b[0;32m     17\u001b[0m                 y = merged_data.Value)\n\u001b[0;32m     18\u001b[0m \u001b[1;33m\u001b[0m\u001b[0m\n",
      "\u001b[1;32m~\\AppData\\Local\\Temp/ipykernel_13428/2115586698.py\u001b[0m in \u001b[0;36mfit_line\u001b[1;34m(x, y)\u001b[0m\n\u001b[0;32m      6\u001b[0m \u001b[1;33m\u001b[0m\u001b[0m\n\u001b[0;32m      7\u001b[0m     \u001b[0mA\u001b[0m \u001b[1;33m=\u001b[0m \u001b[0mnp\u001b[0m\u001b[1;33m.\u001b[0m\u001b[0mvstack\u001b[0m\u001b[1;33m(\u001b[0m\u001b[1;33m[\u001b[0m\u001b[0mx\u001b[0m\u001b[1;33m,\u001b[0m \u001b[0mnp\u001b[0m\u001b[1;33m.\u001b[0m\u001b[0mones\u001b[0m\u001b[1;33m(\u001b[0m\u001b[0mlen\u001b[0m\u001b[1;33m(\u001b[0m\u001b[0mx\u001b[0m\u001b[1;33m)\u001b[0m\u001b[1;33m)\u001b[0m\u001b[1;33m]\u001b[0m\u001b[1;33m)\u001b[0m\u001b[1;33m.\u001b[0m\u001b[0mT\u001b[0m\u001b[1;33m\u001b[0m\u001b[1;33m\u001b[0m\u001b[0m\n\u001b[1;32m----> 8\u001b[1;33m     \u001b[0mm\u001b[0m\u001b[1;33m,\u001b[0m \u001b[0mc\u001b[0m \u001b[1;33m=\u001b[0m \u001b[0mnp\u001b[0m\u001b[1;33m.\u001b[0m\u001b[0mlinalg\u001b[0m\u001b[1;33m.\u001b[0m\u001b[0mlstsq\u001b[0m\u001b[1;33m(\u001b[0m\u001b[0mA\u001b[0m\u001b[1;33m,\u001b[0m \u001b[0my\u001b[0m\u001b[1;33m,\u001b[0m \u001b[0mrcond\u001b[0m\u001b[1;33m=\u001b[0m\u001b[1;32mNone\u001b[0m\u001b[1;33m)\u001b[0m\u001b[1;33m[\u001b[0m\u001b[1;36m0\u001b[0m\u001b[1;33m]\u001b[0m\u001b[1;33m\u001b[0m\u001b[1;33m\u001b[0m\u001b[0m\n\u001b[0m\u001b[0;32m      9\u001b[0m \u001b[1;33m\u001b[0m\u001b[0m\n\u001b[0;32m     10\u001b[0m     \u001b[1;32mreturn\u001b[0m \u001b[0mm\u001b[0m\u001b[1;33m,\u001b[0m \u001b[0mc\u001b[0m\u001b[1;33m\u001b[0m\u001b[1;33m\u001b[0m\u001b[0m\n",
      "\u001b[1;32m<__array_function__ internals>\u001b[0m in \u001b[0;36mlstsq\u001b[1;34m(*args, **kwargs)\u001b[0m\n",
      "\u001b[1;32mc:\\ProgramData\\Anaconda3\\lib\\site-packages\\numpy\\linalg\\linalg.py\u001b[0m in \u001b[0;36mlstsq\u001b[1;34m(a, b, rcond)\u001b[0m\n\u001b[0;32m   2303\u001b[0m         \u001b[1;31m# lapack can't handle n_rhs = 0 - so allocate the array one larger in that axis\u001b[0m\u001b[1;33m\u001b[0m\u001b[1;33m\u001b[0m\u001b[0m\n\u001b[0;32m   2304\u001b[0m         \u001b[0mb\u001b[0m \u001b[1;33m=\u001b[0m \u001b[0mzeros\u001b[0m\u001b[1;33m(\u001b[0m\u001b[0mb\u001b[0m\u001b[1;33m.\u001b[0m\u001b[0mshape\u001b[0m\u001b[1;33m[\u001b[0m\u001b[1;33m:\u001b[0m\u001b[1;33m-\u001b[0m\u001b[1;36m2\u001b[0m\u001b[1;33m]\u001b[0m \u001b[1;33m+\u001b[0m \u001b[1;33m(\u001b[0m\u001b[0mm\u001b[0m\u001b[1;33m,\u001b[0m \u001b[0mn_rhs\u001b[0m \u001b[1;33m+\u001b[0m \u001b[1;36m1\u001b[0m\u001b[1;33m)\u001b[0m\u001b[1;33m,\u001b[0m \u001b[0mdtype\u001b[0m\u001b[1;33m=\u001b[0m\u001b[0mb\u001b[0m\u001b[1;33m.\u001b[0m\u001b[0mdtype\u001b[0m\u001b[1;33m)\u001b[0m\u001b[1;33m\u001b[0m\u001b[1;33m\u001b[0m\u001b[0m\n\u001b[1;32m-> 2305\u001b[1;33m     \u001b[0mx\u001b[0m\u001b[1;33m,\u001b[0m \u001b[0mresids\u001b[0m\u001b[1;33m,\u001b[0m \u001b[0mrank\u001b[0m\u001b[1;33m,\u001b[0m \u001b[0ms\u001b[0m \u001b[1;33m=\u001b[0m \u001b[0mgufunc\u001b[0m\u001b[1;33m(\u001b[0m\u001b[0ma\u001b[0m\u001b[1;33m,\u001b[0m \u001b[0mb\u001b[0m\u001b[1;33m,\u001b[0m \u001b[0mrcond\u001b[0m\u001b[1;33m,\u001b[0m \u001b[0msignature\u001b[0m\u001b[1;33m=\u001b[0m\u001b[0msignature\u001b[0m\u001b[1;33m,\u001b[0m \u001b[0mextobj\u001b[0m\u001b[1;33m=\u001b[0m\u001b[0mextobj\u001b[0m\u001b[1;33m)\u001b[0m\u001b[1;33m\u001b[0m\u001b[1;33m\u001b[0m\u001b[0m\n\u001b[0m\u001b[0;32m   2306\u001b[0m     \u001b[1;32mif\u001b[0m \u001b[0mm\u001b[0m \u001b[1;33m==\u001b[0m \u001b[1;36m0\u001b[0m\u001b[1;33m:\u001b[0m\u001b[1;33m\u001b[0m\u001b[1;33m\u001b[0m\u001b[0m\n\u001b[0;32m   2307\u001b[0m         \u001b[0mx\u001b[0m\u001b[1;33m[\u001b[0m\u001b[1;33m...\u001b[0m\u001b[1;33m]\u001b[0m \u001b[1;33m=\u001b[0m \u001b[1;36m0\u001b[0m\u001b[1;33m\u001b[0m\u001b[1;33m\u001b[0m\u001b[0m\n",
      "\u001b[1;31mTypeError\u001b[0m: No loop matching the specified signature and casting was found for ufunc lstsq_n"
     ]
    }
   ],
   "source": [
    "#alternative\n",
    "def fit_line(x, y):\n",
    "\n",
    "    x = x.to_numpy() # convert into numpy arrays\n",
    "    y = y.to_numpy() # convert into numpy arrays\n",
    "\n",
    "    A = np.vstack([x, np.ones(len(x))]).T \n",
    "    m, c = np.linalg.lstsq(A, y, rcond=None)[0]\n",
    "\n",
    "    return m, c\n",
    "    \n",
    "fig = px.scatter(merged_data, x=\"Score\", y=\"Value\",\n",
    "                 log_x=True,\n",
    "                 hover_data=[\"Country\", \"Score\"])\n",
    "# fit a linear model \n",
    "m, c = fit_line(x = merged_data.Score, \n",
    "                y = merged_data.Value)\n",
    "\n",
    "# add the linear fit on top\n",
    "fig.add_trace(\n",
    "    go.Scatter(\n",
    "        x=merged_data.Score,\n",
    "        y=m*merged_data.Score + c,\n",
    "        mode=\"lines\",\n",
    "        line=go.scatter.Line(color=\"red\"),\n",
    "        showlegend=False)\n",
    ")\n",
    "\n",
    "fig.show()"
   ]
  }
 ],
 "metadata": {
  "kernelspec": {
   "display_name": "Python 3.9.7 ('base')",
   "language": "python",
   "name": "python3"
  },
  "language_info": {
   "codemirror_mode": {
    "name": "ipython",
    "version": 3
   },
   "file_extension": ".py",
   "mimetype": "text/x-python",
   "name": "python",
   "nbconvert_exporter": "python",
   "pygments_lexer": "ipython3",
   "version": "3.9.7"
  },
  "orig_nbformat": 4,
  "vscode": {
   "interpreter": {
    "hash": "ad2bdc8ecc057115af97d19610ffacc2b4e99fae6737bb82f5d7fb13d2f2c186"
   }
  }
 },
 "nbformat": 4,
 "nbformat_minor": 2
}
